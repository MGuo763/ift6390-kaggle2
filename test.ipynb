{
 "cells": [
  {
   "cell_type": "code",
   "execution_count": 1,
   "metadata": {},
   "outputs": [
    {
     "name": "stdout",
     "output_type": "stream",
     "text": [
      "           target\n",
      "id               \n",
      "0        positive\n",
      "1        negative\n",
      "2        positive\n",
      "3        positive\n",
      "4        negative\n",
      "...           ...\n",
      "1040318  positive\n",
      "1040319  negative\n",
      "1040320  negative\n",
      "1040321  positive\n",
      "1040322  negative\n",
      "\n",
      "[1040323 rows x 1 columns]\n"
     ]
    }
   ],
   "source": [
    "import pandas as pd\n",
    "from data_processing import*\n",
    "\n",
    "data_train,data_train_label,data_test = clean()\n",
    "print(data_train_label)"
   ]
  },
  {
   "cell_type": "code",
   "execution_count": 2,
   "metadata": {},
   "outputs": [
    {
     "name": "stdout",
     "output_type": "stream",
     "text": [
      "                                                 text\n",
      "id                                                   \n",
      "0                   Anyway Im getting of for a while \n",
      "1   My red, Apache isn't feelin too well this morn...\n",
      "2   @danyelljoy you should be  its great. friday w...\n",
      "3   its 11:30pm and i dont wanna sleep; so i debat...\n",
      "4           Why does twitter eat my DM's?  Not happy \n",
      "      target\n",
      "id          \n",
      "0   positive\n",
      "1   negative\n",
      "2   positive\n",
      "3   positive\n",
      "4   negative\n",
      "                                                 text\n",
      "id                                                   \n",
      "0   so cut... missed out on all the TCE EXTREME ME...\n",
      "1      Thank you very much Wasin  this is awesome lol\n",
      "2   Squeezing in some internet time before Dustin ...\n",
      "3   @fanoou; Oh i do have moral but i'm gonna be b...\n",
      "4   @NSuissa   I just bought Sammy some joint/hip ...\n"
     ]
    }
   ],
   "source": [
    "\n",
    "print(data_train.head())\n",
    "print(data_train_label.head())\n",
    "print(data_test.head())\n"
   ]
  }
 ],
 "metadata": {
  "kernelspec": {
   "display_name": "Python 3.9.10 64-bit",
   "language": "python",
   "name": "python3"
  },
  "language_info": {
   "codemirror_mode": {
    "name": "ipython",
    "version": 3
   },
   "file_extension": ".py",
   "mimetype": "text/x-python",
   "name": "python",
   "nbconvert_exporter": "python",
   "pygments_lexer": "ipython3",
   "version": "3.9.10"
  },
  "orig_nbformat": 4,
  "vscode": {
   "interpreter": {
    "hash": "aee8b7b246df8f9039afb4144a1f6fd8d2ca17a180786b69acc140d282b71a49"
   }
  }
 },
 "nbformat": 4,
 "nbformat_minor": 2
}
